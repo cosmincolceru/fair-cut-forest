{
 "cells": [
  {
   "cell_type": "markdown",
   "metadata": {},
   "source": [
    "# Imports"
   ]
  },
  {
   "cell_type": "code",
   "execution_count": 164,
   "metadata": {},
   "outputs": [],
   "source": [
    "import numpy as np\n",
    "from fcf import fair_cut_forest, score_point\n",
    "from sklearn.datasets import fetch_openml\n",
    "from sklearn.metrics import roc_auc_score, precision_recall_curve, auc\n",
    "from sklearn.preprocessing import StandardScaler\n",
    "import matplotlib.pyplot as plt\n",
    "import time\n",
    "import eif_old as iso\n",
    "from pyod.models.lof import LOF\n",
    "import rrcf\n",
    "import pandas as pd\n",
    "from pyod.models.iforest import IForest\n"
   ]
  },
  {
   "cell_type": "markdown",
   "metadata": {},
   "source": [
    "# Models"
   ]
  },
  {
   "cell_type": "markdown",
   "metadata": {},
   "source": [
    "## FCF"
   ]
  },
  {
   "cell_type": "code",
   "execution_count": 165,
   "metadata": {},
   "outputs": [],
   "source": [
    "def test_fcf(X, y):\n",
    "    n_trees = 200\n",
    "    sample_size = 256\n",
    "    n_splits = 2\n",
    "\n",
    "    roc_scores = []\n",
    "    pr_scores = []\n",
    "    times = []\n",
    "\n",
    "    for _ in range(10):\n",
    "        t1 = time.time()\n",
    "        fcf_trees, fcf_q = fair_cut_forest(X, p=n_splits, t=n_trees, s=sample_size)\n",
    "        fcf_scores = np.array([score_point(x, fcf_trees, fcf_q) for x in X])\n",
    "        t2 = time.time()\n",
    "\n",
    "        roc_auc = roc_auc_score(y, fcf_scores)\n",
    "        precision, recall, _ = precision_recall_curve(y, fcf_scores)\n",
    "        pr_auc = auc(recall, precision)\n",
    "\n",
    "        print(\"ROC-AUC:\", roc_auc)\n",
    "        print(\"PR-AUC:\", pr_auc)\n",
    "        print(\"Time:\", t2 - t1)\n",
    "        print()\n",
    "\n",
    "        roc_scores.append(roc_auc)\n",
    "        pr_scores.append(pr_auc)\n",
    "        times.append(t2 - t1)\n",
    "\n",
    "    print(\"Average ROC-AUC:\", np.mean(roc_scores))\n",
    "    print(\"Average PR-AUC:\", np.mean(pr_scores))\n",
    "    print(\"Average Time:\", np.mean(times))"
   ]
  },
  {
   "cell_type": "markdown",
   "metadata": {},
   "source": [
    "## IF"
   ]
  },
  {
   "cell_type": "code",
   "execution_count": 166,
   "metadata": {},
   "outputs": [],
   "source": [
    "def test_if(X, y, contamination):\n",
    "    n_trees = 100\n",
    "    sample_size = 256\n",
    "\n",
    "    roc_scores = []\n",
    "    pr_scores = []\n",
    "    times = []\n",
    "\n",
    "    for i in range(10):\n",
    "        t1 = time.time()\n",
    "        iforest = IForest(\n",
    "            n_estimators=n_trees,\n",
    "            max_samples=sample_size,\n",
    "            contamination=contamination,\n",
    "            random_state=i\n",
    "        )\n",
    "\n",
    "        iforest.fit(X)\n",
    "        iforest_scores = iforest.decision_function(X)\n",
    "        t2 = time.time()\n",
    "\n",
    "        roc_auc = roc_auc_score(y, iforest_scores)\n",
    "        precision, recall, _ = precision_recall_curve(y, iforest_scores)\n",
    "        pr_auc = auc(recall, precision)\n",
    "\n",
    "        print(f\"ROC-AUC: {roc_auc:.3f}\")\n",
    "        print(f\"PR-AUC:  {pr_auc:.3f}\")\n",
    "        print(f\"Time:    {t2 - t1:.3f}\")\n",
    "        print()\n",
    "\n",
    "        roc_scores.append(roc_auc)\n",
    "        pr_scores.append(pr_auc)\n",
    "        times.append(t2 - t1)\n",
    "\n",
    "    print(\"Average ROC-AUC:\", np.mean(roc_scores))\n",
    "    print(\"Average PR-AUC:\", np.mean(pr_scores))\n",
    "    print(\"Average Time:\", np.mean(times))\n",
    "    print()"
   ]
  },
  {
   "cell_type": "markdown",
   "metadata": {},
   "source": [
    "## EIF"
   ]
  },
  {
   "cell_type": "code",
   "execution_count": 167,
   "metadata": {},
   "outputs": [],
   "source": [
    "def test_eif(X, y):\n",
    "    roc_scores = []\n",
    "    pr_scores = []\n",
    "    times = []\n",
    "\n",
    "    for _ in range(10):\n",
    "        t1 = time.time()\n",
    "\n",
    "        eif  = iso.iForest(X, ntrees=100, sample_size=256, ExtensionLevel=1)\n",
    "        eif_scores = eif.compute_paths(X_in=X)\n",
    "\n",
    "        t2 = time.time()\n",
    "        times.append(t2 - t1)\n",
    "\n",
    "        roc_auc = roc_auc_score(y, eif_scores)\n",
    "        precision, recall, _ = precision_recall_curve(y, eif_scores)\n",
    "        pr_auc = auc(recall, precision)\n",
    "\n",
    "        print(\"ROC-AUC:\", roc_auc)\n",
    "        print(\"PR-AUC:\", pr_auc)\n",
    "        print(\"Time: \", t2 - t1)\n",
    "        print()\n",
    "\n",
    "\n",
    "        roc_scores.append(roc_auc)\n",
    "        pr_scores.append(pr_auc)\n",
    "\n",
    "    print(\"Average ROC-AUC:\", np.mean(roc_scores))\n",
    "    print(\"Average PR-AUC:\", np.mean(pr_scores))\n",
    "    print(\"Average Time:\", np.mean(times))\n",
    "    print()"
   ]
  },
  {
   "cell_type": "markdown",
   "metadata": {},
   "source": [
    "## RRCF"
   ]
  },
  {
   "cell_type": "code",
   "execution_count": 168,
   "metadata": {},
   "outputs": [],
   "source": [
    "def test_rrcf(X, y):\n",
    "    n = len(y)\n",
    "    num_trees = 200 \n",
    "    tree_size = 256\n",
    "\n",
    "    for _ in range(10):\n",
    "        t1 = time.time()\n",
    "        forest = []\n",
    "        ixs = [np.random.choice(n, size=tree_size, replace=False) for _ in range(num_trees)]\n",
    "\n",
    "        for ix in ixs:\n",
    "            tree = rrcf.RCTree(X[ix], index_labels=ix)  \n",
    "            forest.append(tree)\n",
    "\n",
    "        avg_codisp = pd.Series(0.0, index=np.arange(n))\n",
    "        index = np.zeros(n)\n",
    "\n",
    "        for tree in forest:\n",
    "            codisp = pd.Series({leaf: tree.codisp(leaf) for leaf in tree.leaves})\n",
    "            avg_codisp[codisp.index] += codisp\n",
    "            np.add.at(index, codisp.index.values, 1)\n",
    "\n",
    "        index[index == 0] = 1\n",
    "        avg_codisp /= index\n",
    "\n",
    "        avg_codisp = avg_codisp.fillna(0)\n",
    "\n",
    "        t2 = time.time()\n",
    "\n",
    "        roc_auc = roc_auc_score(y, -avg_codisp)\n",
    "        precision, recall, _ = precision_recall_curve(y, -avg_codisp)\n",
    "        pr_auc = auc(recall, precision)\n",
    "\n",
    "        print(\"ROC-AUC:\", roc_auc)\n",
    "        print(\"PR-AUC:\", pr_auc)\n",
    "        print(\"Time:\", t2 - t1)\n",
    "        print()\n",
    "\n",
    "    print(\"Average ROC-AUC:\", np.mean(roc_auc))\n",
    "    print(\"Average PR-AUC:\", np.mean(pr_auc))\n",
    "    print(\"Average Time:\", np.mean(t2 - t1))"
   ]
  },
  {
   "cell_type": "markdown",
   "metadata": {},
   "source": [
    "## LOF"
   ]
  },
  {
   "cell_type": "code",
   "execution_count": 169,
   "metadata": {},
   "outputs": [],
   "source": [
    "def test_lof(X, y, contamination):\n",
    "    t1 = time.time()\n",
    "\n",
    "    lof_model = LOF(n_neighbors=20, contamination=contamination)\n",
    "    lof_model.fit(X)\n",
    "    y_scores = lof_model.decision_function(X)\n",
    "\n",
    "    t2 = time.time()\n",
    "\n",
    "    roc_auc = roc_auc_score(y, y_scores)\n",
    "    precision, recall, _ = precision_recall_curve(y, y_scores)\n",
    "    pr_auc = auc(recall, precision)\n",
    "\n",
    "    print(\"ROC-AUC:\", roc_auc)\n",
    "    print(\"PR-AUC:\", pr_auc)\n",
    "    print(\"Time:\", t2 - t1)"
   ]
  },
  {
   "cell_type": "markdown",
   "metadata": {},
   "source": [
    "# Test SpamBase Dataset"
   ]
  },
  {
   "cell_type": "code",
   "execution_count": 195,
   "metadata": {},
   "outputs": [],
   "source": [
    "X, y = fetch_openml('spambase', version=1, as_frame=False, return_X_y=True)\n",
    "scaler = StandardScaler()\n",
    "X = scaler.fit_transform(X)\n",
    "y = y.astype(int)"
   ]
  },
  {
   "cell_type": "markdown",
   "metadata": {},
   "source": [
    "## FCF"
   ]
  },
  {
   "cell_type": "code",
   "execution_count": 171,
   "metadata": {},
   "outputs": [
    {
     "name": "stdout",
     "output_type": "stream",
     "text": [
      "ROC-AUC: 0.7088267739528243\n",
      "PR-AUC: 0.5334411219101873\n",
      "Time: 110.90148067474365\n",
      "\n",
      "ROC-AUC: 0.6960665281274012\n",
      "PR-AUC: 0.5148976604261465\n",
      "Time: 101.60204744338989\n",
      "\n",
      "ROC-AUC: 0.7070606752918702\n",
      "PR-AUC: 0.5301848980295599\n",
      "Time: 105.56783866882324\n",
      "\n",
      "ROC-AUC: 0.7138901374656652\n",
      "PR-AUC: 0.5391268420393855\n",
      "Time: 105.78251147270203\n",
      "\n",
      "ROC-AUC: 0.6995398686831358\n",
      "PR-AUC: 0.5236208960466724\n",
      "Time: 105.21367907524109\n",
      "\n",
      "ROC-AUC: 0.7001403066170436\n",
      "PR-AUC: 0.5241058447408925\n",
      "Time: 108.60266995429993\n",
      "\n",
      "ROC-AUC: 0.7010566916285301\n",
      "PR-AUC: 0.5220258099337711\n",
      "Time: 103.46378755569458\n",
      "\n",
      "ROC-AUC: 0.696482877923747\n",
      "PR-AUC: 0.5197261576150267\n",
      "Time: 107.60030031204224\n",
      "\n",
      "ROC-AUC: 0.6954897318188977\n",
      "PR-AUC: 0.5190956917387207\n",
      "Time: 105.37427091598511\n",
      "\n",
      "ROC-AUC: 0.7054002220532247\n",
      "PR-AUC: 0.5274743811978346\n",
      "Time: 106.62130403518677\n",
      "\n",
      "Average ROC-AUC: 0.702395381356234\n",
      "Average PR-AUC: 0.5253699303678198\n",
      "Average Time: 106.07298901081086\n"
     ]
    }
   ],
   "source": [
    "test_fcf(X, y)"
   ]
  },
  {
   "cell_type": "markdown",
   "metadata": {},
   "source": [
    "## IF"
   ]
  },
  {
   "cell_type": "code",
   "execution_count": 172,
   "metadata": {},
   "outputs": [
    {
     "name": "stdout",
     "output_type": "stream",
     "text": [
      "ROC-AUC: 0.658\n",
      "PR-AUC:  0.496\n",
      "Time:    0.228\n",
      "\n",
      "ROC-AUC: 0.642\n",
      "PR-AUC:  0.483\n",
      "Time:    0.224\n",
      "\n",
      "ROC-AUC: 0.612\n",
      "PR-AUC:  0.466\n",
      "Time:    0.233\n",
      "\n",
      "ROC-AUC: 0.614\n",
      "PR-AUC:  0.459\n",
      "Time:    0.211\n",
      "\n",
      "ROC-AUC: 0.670\n",
      "PR-AUC:  0.536\n",
      "Time:    0.194\n",
      "\n",
      "ROC-AUC: 0.636\n",
      "PR-AUC:  0.473\n",
      "Time:    0.196\n",
      "\n",
      "ROC-AUC: 0.589\n",
      "PR-AUC:  0.434\n",
      "Time:    0.207\n",
      "\n",
      "ROC-AUC: 0.646\n",
      "PR-AUC:  0.494\n",
      "Time:    0.194\n",
      "\n",
      "ROC-AUC: 0.625\n",
      "PR-AUC:  0.480\n",
      "Time:    0.207\n",
      "\n",
      "ROC-AUC: 0.624\n",
      "PR-AUC:  0.465\n",
      "Time:    0.215\n",
      "\n",
      "Average ROC-AUC: 0.6315994657586173\n",
      "Average PR-AUC: 0.4785391725486243\n",
      "Average Time: 0.21086931228637695\n",
      "\n"
     ]
    }
   ],
   "source": [
    "test_if(X, y, 0.39)"
   ]
  },
  {
   "cell_type": "markdown",
   "metadata": {},
   "source": [
    "## EIF"
   ]
  },
  {
   "cell_type": "code",
   "execution_count": 173,
   "metadata": {},
   "outputs": [
    {
     "name": "stdout",
     "output_type": "stream",
     "text": [
      "ROC-AUC: 0.5766756274032355\n",
      "PR-AUC: 0.42702192073245726\n",
      "Time:  11.028805494308472\n",
      "\n",
      "ROC-AUC: 0.5936231117364547\n",
      "PR-AUC: 0.4458067171693249\n",
      "Time:  8.715203046798706\n",
      "\n",
      "ROC-AUC: 0.6028214845595457\n",
      "PR-AUC: 0.4587066730964612\n",
      "Time:  8.604262351989746\n",
      "\n",
      "ROC-AUC: 0.6568196494154682\n",
      "PR-AUC: 0.5068189171743378\n",
      "Time:  8.546306610107422\n",
      "\n",
      "ROC-AUC: 0.6003593922737189\n",
      "PR-AUC: 0.4498263064086005\n",
      "Time:  8.704461097717285\n",
      "\n",
      "ROC-AUC: 0.5770459798949243\n",
      "PR-AUC: 0.42319615525795085\n",
      "Time:  8.611206769943237\n",
      "\n",
      "ROC-AUC: 0.6162891986062717\n",
      "PR-AUC: 0.46955944511896797\n",
      "Time:  8.73010778427124\n",
      "\n",
      "ROC-AUC: 0.5905946096302727\n",
      "PR-AUC: 0.4482110360109939\n",
      "Time:  8.450064182281494\n",
      "\n",
      "ROC-AUC: 0.6144875880477438\n",
      "PR-AUC: 0.4620903231251577\n",
      "Time:  8.633589029312134\n",
      "\n",
      "ROC-AUC: 0.6221908011721498\n",
      "PR-AUC: 0.4691994486977541\n",
      "Time:  8.50170373916626\n",
      "\n",
      "Average ROC-AUC: 0.6050907442739786\n",
      "Average PR-AUC: 0.45604369427920066\n",
      "Average Time: 8.8525710105896\n",
      "\n"
     ]
    }
   ],
   "source": [
    "test_eif(X, y)"
   ]
  },
  {
   "cell_type": "markdown",
   "metadata": {},
   "source": [
    "## RRCF"
   ]
  },
  {
   "cell_type": "code",
   "execution_count": 174,
   "metadata": {},
   "outputs": [
    {
     "name": "stdout",
     "output_type": "stream",
     "text": [
      "ROC-AUC: 0.5210265055264031\n",
      "PR-AUC: 0.3877797705713233\n",
      "Time: 5.337709665298462\n",
      "\n",
      "ROC-AUC: 0.5376415233199411\n",
      "PR-AUC: 0.39957185643278\n",
      "Time: 6.102735280990601\n",
      "\n",
      "ROC-AUC: 0.53471975474435\n",
      "PR-AUC: 0.3953004877614904\n",
      "Time: 6.219537019729614\n",
      "\n",
      "ROC-AUC: 0.5310065357718565\n",
      "PR-AUC: 0.392022084429285\n",
      "Time: 6.359196901321411\n",
      "\n",
      "ROC-AUC: 0.5306410303079702\n",
      "PR-AUC: 0.395173977799273\n",
      "Time: 4.47104811668396\n",
      "\n",
      "ROC-AUC: 0.5215668996669202\n",
      "PR-AUC: 0.3846429546836371\n",
      "Time: 4.593787908554077\n",
      "\n",
      "ROC-AUC: 0.5266782388631128\n",
      "PR-AUC: 0.38795270430003315\n",
      "Time: 4.3847057819366455\n",
      "\n",
      "ROC-AUC: 0.5273398086986938\n",
      "PR-AUC: 0.3896383002816982\n",
      "Time: 5.46354866027832\n",
      "\n",
      "ROC-AUC: 0.5307920795213273\n",
      "PR-AUC: 0.3943711880489241\n",
      "Time: 4.451530694961548\n",
      "\n",
      "ROC-AUC: 0.5255317684094073\n",
      "PR-AUC: 0.3890488903197213\n",
      "Time: 4.43478798866272\n",
      "\n",
      "Average ROC-AUC: 0.5255317684094073\n",
      "Average PR-AUC: 0.3890488903197213\n",
      "Average Time: 4.43478798866272\n"
     ]
    }
   ],
   "source": [
    "test_rrcf(X, y)"
   ]
  },
  {
   "cell_type": "markdown",
   "metadata": {},
   "source": [
    "## LOF"
   ]
  },
  {
   "cell_type": "code",
   "execution_count": 175,
   "metadata": {},
   "outputs": [
    {
     "name": "stdout",
     "output_type": "stream",
     "text": [
      "ROC-AUC: 0.4564684476295462\n",
      "PR-AUC: 0.3542794752963152\n",
      "Time: 0.338702917098999\n"
     ]
    }
   ],
   "source": [
    "test_lof(X, y, 0.39)"
   ]
  },
  {
   "cell_type": "markdown",
   "metadata": {},
   "source": [
    "# Test Pima dataset"
   ]
  },
  {
   "cell_type": "code",
   "execution_count": 192,
   "metadata": {},
   "outputs": [],
   "source": [
    "import pandas as pd\n",
    "\n",
    "df = pd.read_csv('diabetes.csv')\n",
    "\n",
    "X = df.iloc[:, :-1].values\n",
    "y = df.iloc[:, -1].values"
   ]
  },
  {
   "cell_type": "markdown",
   "metadata": {},
   "source": [
    "## IF"
   ]
  },
  {
   "cell_type": "code",
   "execution_count": 177,
   "metadata": {},
   "outputs": [
    {
     "name": "stdout",
     "output_type": "stream",
     "text": [
      "ROC-AUC: 0.660\n",
      "PR-AUC:  0.487\n",
      "Time:    0.232\n",
      "\n",
      "ROC-AUC: 0.663\n",
      "PR-AUC:  0.492\n",
      "Time:    0.170\n",
      "\n",
      "ROC-AUC: 0.669\n",
      "PR-AUC:  0.497\n",
      "Time:    0.185\n",
      "\n",
      "ROC-AUC: 0.677\n",
      "PR-AUC:  0.506\n",
      "Time:    0.187\n",
      "\n",
      "ROC-AUC: 0.683\n",
      "PR-AUC:  0.509\n",
      "Time:    0.202\n",
      "\n",
      "ROC-AUC: 0.673\n",
      "PR-AUC:  0.501\n",
      "Time:    0.169\n",
      "\n",
      "ROC-AUC: 0.666\n",
      "PR-AUC:  0.488\n",
      "Time:    0.181\n",
      "\n",
      "ROC-AUC: 0.678\n",
      "PR-AUC:  0.510\n",
      "Time:    0.180\n",
      "\n",
      "ROC-AUC: 0.664\n",
      "PR-AUC:  0.487\n",
      "Time:    0.174\n",
      "\n",
      "ROC-AUC: 0.674\n",
      "PR-AUC:  0.499\n",
      "Time:    0.182\n",
      "\n",
      "Average ROC-AUC: 0.6706753731343285\n",
      "Average PR-AUC: 0.497518788590697\n",
      "Average Time: 0.18622210025787353\n",
      "\n"
     ]
    }
   ],
   "source": [
    "test_if(X, y, contamination=0.35)"
   ]
  },
  {
   "cell_type": "markdown",
   "metadata": {},
   "source": [
    "## FCF"
   ]
  },
  {
   "cell_type": "code",
   "execution_count": 178,
   "metadata": {},
   "outputs": [
    {
     "name": "stdout",
     "output_type": "stream",
     "text": [
      "ROC-AUC: 0.7328358208955223\n",
      "PR-AUC: 0.534329981610817\n",
      "Time: 43.373560190200806\n",
      "\n",
      "ROC-AUC: 0.7329440298507462\n",
      "PR-AUC: 0.5382715435145773\n",
      "Time: 42.05085062980652\n",
      "\n",
      "ROC-AUC: 0.7322537313432835\n",
      "PR-AUC: 0.5468481422784844\n",
      "Time: 41.047685623168945\n",
      "\n",
      "ROC-AUC: 0.7342238805970149\n",
      "PR-AUC: 0.5407186608932844\n",
      "Time: 41.09322166442871\n",
      "\n",
      "ROC-AUC: 0.7316417910447761\n",
      "PR-AUC: 0.532643438183313\n",
      "Time: 43.40599179267883\n",
      "\n",
      "ROC-AUC: 0.7295671641791045\n",
      "PR-AUC: 0.5301682201347875\n",
      "Time: 45.53294801712036\n",
      "\n",
      "ROC-AUC: 0.7366007462686568\n",
      "PR-AUC: 0.5406080962804329\n",
      "Time: 41.37129521369934\n",
      "\n",
      "ROC-AUC: 0.7401529850746268\n",
      "PR-AUC: 0.5454580430615369\n",
      "Time: 43.78364586830139\n",
      "\n",
      "ROC-AUC: 0.7267126865671641\n",
      "PR-AUC: 0.5165459596654212\n",
      "Time: 45.54153084754944\n",
      "\n",
      "ROC-AUC: 0.7452126865671642\n",
      "PR-AUC: 0.5514238954248767\n",
      "Time: 45.101874589920044\n",
      "\n",
      "Average ROC-AUC: 0.7342145522388059\n",
      "Average PR-AUC: 0.5377015981047532\n",
      "Average Time: 43.23026044368744\n"
     ]
    }
   ],
   "source": [
    "test_fcf(X, y)"
   ]
  },
  {
   "cell_type": "markdown",
   "metadata": {},
   "source": [
    "## EIF"
   ]
  },
  {
   "cell_type": "code",
   "execution_count": 179,
   "metadata": {},
   "outputs": [
    {
     "name": "stdout",
     "output_type": "stream",
     "text": [
      "ROC-AUC: 0.6787910447761195\n",
      "PR-AUC: 0.5107622358608976\n",
      "Time:  1.93174147605896\n",
      "\n",
      "ROC-AUC: 0.6738432835820896\n",
      "PR-AUC: 0.5096751592597213\n",
      "Time:  2.2912609577178955\n",
      "\n",
      "ROC-AUC: 0.6522985074626867\n",
      "PR-AUC: 0.490425101662713\n",
      "Time:  2.0517563819885254\n",
      "\n",
      "ROC-AUC: 0.6798880597014925\n",
      "PR-AUC: 0.5128533372266384\n",
      "Time:  1.7375619411468506\n",
      "\n",
      "ROC-AUC: 0.675276119402985\n",
      "PR-AUC: 0.5147193112592702\n",
      "Time:  1.757962703704834\n",
      "\n",
      "ROC-AUC: 0.6741119402985074\n",
      "PR-AUC: 0.514451721445454\n",
      "Time:  1.6211018562316895\n",
      "\n",
      "ROC-AUC: 0.6642313432835821\n",
      "PR-AUC: 0.4992541925054931\n",
      "Time:  1.8359591960906982\n",
      "\n",
      "ROC-AUC: 0.6559328358208956\n",
      "PR-AUC: 0.49203524121718517\n",
      "Time:  2.6260716915130615\n",
      "\n",
      "ROC-AUC: 0.685955223880597\n",
      "PR-AUC: 0.5183486896099676\n",
      "Time:  2.1797196865081787\n",
      "\n",
      "ROC-AUC: 0.668820895522388\n",
      "PR-AUC: 0.5002936518841063\n",
      "Time:  1.7510058879852295\n",
      "\n",
      "Average ROC-AUC: 0.6709149253731345\n",
      "Average PR-AUC: 0.5062818641931447\n",
      "Average Time: 1.9784141778945923\n",
      "\n"
     ]
    }
   ],
   "source": [
    "test_eif(X, y)"
   ]
  },
  {
   "cell_type": "markdown",
   "metadata": {},
   "source": [
    "## RRCF"
   ]
  },
  {
   "cell_type": "code",
   "execution_count": 180,
   "metadata": {},
   "outputs": [
    {
     "name": "stdout",
     "output_type": "stream",
     "text": [
      "ROC-AUC: 0.40688805970149255\n",
      "PR-AUC: 0.3056428926494168\n",
      "Time: 3.9223380088806152\n",
      "\n",
      "ROC-AUC: 0.4061865671641791\n",
      "PR-AUC: 0.29879388763576686\n",
      "Time: 3.699434518814087\n",
      "\n",
      "ROC-AUC: 0.412544776119403\n",
      "PR-AUC: 0.305804810269101\n",
      "Time: 3.685863733291626\n",
      "\n",
      "ROC-AUC: 0.4076492537313433\n",
      "PR-AUC: 0.305332103304889\n",
      "Time: 4.162519216537476\n",
      "\n",
      "ROC-AUC: 0.40964179104477616\n",
      "PR-AUC: 0.2996170851308317\n",
      "Time: 3.638122320175171\n",
      "\n",
      "ROC-AUC: 0.40953731343283584\n",
      "PR-AUC: 0.2973656602271676\n",
      "Time: 3.8645873069763184\n",
      "\n",
      "ROC-AUC: 0.4231940298507463\n",
      "PR-AUC: 0.30611538376471287\n",
      "Time: 4.677422523498535\n",
      "\n",
      "ROC-AUC: 0.40917164179104476\n",
      "PR-AUC: 0.30224911199000626\n",
      "Time: 3.2932207584381104\n",
      "\n",
      "ROC-AUC: 0.4101641791044776\n",
      "PR-AUC: 0.2974353376296419\n",
      "Time: 3.4457943439483643\n",
      "\n",
      "ROC-AUC: 0.40113432835820895\n",
      "PR-AUC: 0.29902612223220426\n",
      "Time: 3.4000234603881836\n",
      "\n",
      "Average ROC-AUC: 0.40113432835820895\n",
      "Average PR-AUC: 0.29902612223220426\n",
      "Average Time: 3.4000234603881836\n"
     ]
    }
   ],
   "source": [
    "test_rrcf(X, y) "
   ]
  },
  {
   "cell_type": "markdown",
   "metadata": {},
   "source": [
    "## LOF"
   ]
  },
  {
   "cell_type": "code",
   "execution_count": 181,
   "metadata": {},
   "outputs": [
    {
     "name": "stdout",
     "output_type": "stream",
     "text": [
      "ROC-AUC: 0.5384477611940299\n",
      "PR-AUC: 0.36659301128046895\n",
      "Time: 0.011255979537963867\n"
     ]
    }
   ],
   "source": [
    "test_lof(X, y, contamination=0.35)"
   ]
  },
  {
   "cell_type": "markdown",
   "metadata": {},
   "source": [
    "# Test Annthyroid Dataset"
   ]
  },
  {
   "cell_type": "code",
   "execution_count": 205,
   "metadata": {},
   "outputs": [],
   "source": [
    "train_data = pd.read_csv('ann-train.data', header=None, sep='\\s+')\n",
    "test_data = pd.read_csv('ann-test.data', header=None, sep='\\s+')\n",
    "\n",
    "data = pd.concat([train_data, test_data], ignore_index=True)\n",
    "\n",
    "X = data.iloc[:, :-1].values  \n",
    "y = data.iloc[:, -1].values   \n",
    "\n",
    "scaler = StandardScaler()\n",
    "X = scaler.fit_transform(X)\n",
    "\n",
    "y = (y != 3).astype(int) "
   ]
  },
  {
   "cell_type": "markdown",
   "metadata": {},
   "source": [
    "# FCF"
   ]
  },
  {
   "cell_type": "code",
   "execution_count": 207,
   "metadata": {},
   "outputs": [
    {
     "name": "stdout",
     "output_type": "stream",
     "text": [
      "ROC-AUC: 0.7139277129960186\n",
      "PR-AUC: 0.15456617403484446\n",
      "Time: 71.86426734924316\n",
      "\n",
      "ROC-AUC: 0.6931580798529292\n",
      "PR-AUC: 0.13046991657825352\n",
      "Time: 73.19705557823181\n",
      "\n",
      "ROC-AUC: 0.7162089804486067\n",
      "PR-AUC: 0.15508584953243934\n",
      "Time: 72.56828808784485\n",
      "\n",
      "ROC-AUC: 0.703747481489722\n",
      "PR-AUC: 0.13243800826249794\n",
      "Time: 74.90538454055786\n",
      "\n",
      "ROC-AUC: 0.6993540646199452\n",
      "PR-AUC: 0.13735962019068465\n",
      "Time: 79.72801852226257\n",
      "\n",
      "ROC-AUC: 0.7145498257690939\n",
      "PR-AUC: 0.15113772947306808\n",
      "Time: 75.73452663421631\n",
      "\n",
      "ROC-AUC: 0.7068865594424611\n",
      "PR-AUC: 0.1467530153458406\n",
      "Time: 78.5564193725586\n",
      "\n",
      "ROC-AUC: 0.7081017090473092\n",
      "PR-AUC: 0.14434731528832184\n",
      "Time: 75.110830783844\n",
      "\n",
      "ROC-AUC: 0.7213135639406638\n",
      "PR-AUC: 0.15765258584164732\n",
      "Time: 78.28871393203735\n",
      "\n",
      "ROC-AUC: 0.7149502871635479\n",
      "PR-AUC: 0.14856786057578134\n",
      "Time: 79.5807671546936\n",
      "\n",
      "Average ROC-AUC: 0.7092198264770297\n",
      "Average PR-AUC: 0.1458378075123379\n",
      "Average Time: 75.95342719554901\n"
     ]
    }
   ],
   "source": [
    "test_fcf(X, y)"
   ]
  },
  {
   "cell_type": "markdown",
   "metadata": {},
   "source": [
    "# IF"
   ]
  },
  {
   "cell_type": "code",
   "execution_count": 208,
   "metadata": {},
   "outputs": [
    {
     "name": "stdout",
     "output_type": "stream",
     "text": [
      "ROC-AUC: 0.620\n",
      "PR-AUC:  0.118\n",
      "Time:    0.266\n",
      "\n",
      "ROC-AUC: 0.614\n",
      "PR-AUC:  0.110\n",
      "Time:    0.247\n",
      "\n",
      "ROC-AUC: 0.614\n",
      "PR-AUC:  0.108\n",
      "Time:    0.225\n",
      "\n",
      "ROC-AUC: 0.636\n",
      "PR-AUC:  0.113\n",
      "Time:    0.219\n",
      "\n",
      "ROC-AUC: 0.612\n",
      "PR-AUC:  0.111\n",
      "Time:    0.223\n",
      "\n",
      "ROC-AUC: 0.618\n",
      "PR-AUC:  0.108\n",
      "Time:    0.226\n",
      "\n",
      "ROC-AUC: 0.630\n",
      "PR-AUC:  0.122\n",
      "Time:    0.236\n",
      "\n",
      "ROC-AUC: 0.613\n",
      "PR-AUC:  0.107\n",
      "Time:    0.233\n",
      "\n",
      "ROC-AUC: 0.617\n",
      "PR-AUC:  0.113\n",
      "Time:    0.233\n",
      "\n",
      "ROC-AUC: 0.641\n",
      "PR-AUC:  0.135\n",
      "Time:    0.247\n",
      "\n",
      "Average ROC-AUC: 0.6215819194278979\n",
      "Average PR-AUC: 0.11451444523161836\n",
      "Average Time: 0.23555619716644288\n",
      "\n"
     ]
    }
   ],
   "source": [
    "test_if(X, y, 0.07)"
   ]
  },
  {
   "cell_type": "markdown",
   "metadata": {},
   "source": [
    "# EIF"
   ]
  },
  {
   "cell_type": "code",
   "execution_count": 209,
   "metadata": {},
   "outputs": [
    {
     "name": "stdout",
     "output_type": "stream",
     "text": [
      "ROC-AUC: 0.6105471502206401\n",
      "PR-AUC: 0.10959405607038106\n",
      "Time:  14.34892201423645\n",
      "\n",
      "ROC-AUC: 0.5980128911767582\n",
      "PR-AUC: 0.09355101463752119\n",
      "Time:  12.152156352996826\n",
      "\n",
      "ROC-AUC: 0.6174113197836637\n",
      "PR-AUC: 0.11519611949321304\n",
      "Time:  11.464537143707275\n",
      "\n",
      "ROC-AUC: 0.6408107102845115\n",
      "PR-AUC: 0.11678682279309094\n",
      "Time:  11.44958782196045\n",
      "\n",
      "ROC-AUC: 0.5926178291986501\n",
      "PR-AUC: 0.10165551837097689\n",
      "Time:  11.502840042114258\n",
      "\n",
      "ROC-AUC: 0.6433351200288568\n",
      "PR-AUC: 0.11421164802236221\n",
      "Time:  11.80776572227478\n",
      "\n",
      "ROC-AUC: 0.6084597223767321\n",
      "PR-AUC: 0.09805353470843275\n",
      "Time:  11.618387937545776\n",
      "\n",
      "ROC-AUC: 0.6194509900428246\n",
      "PR-AUC: 0.11446084435629016\n",
      "Time:  11.553335905075073\n",
      "\n",
      "ROC-AUC: 0.6237802151001617\n",
      "PR-AUC: 0.11378982965888898\n",
      "Time:  11.681152582168579\n",
      "\n",
      "ROC-AUC: 0.6001926035300159\n",
      "PR-AUC: 0.10046102248928478\n",
      "Time:  12.960887670516968\n",
      "\n",
      "Average ROC-AUC: 0.6154618551742815\n",
      "Average PR-AUC: 0.1077760410600442\n",
      "Average Time: 12.053957319259643\n",
      "\n"
     ]
    }
   ],
   "source": [
    "test_eif(X, y)"
   ]
  },
  {
   "cell_type": "markdown",
   "metadata": {},
   "source": [
    "# RRCF"
   ]
  },
  {
   "cell_type": "code",
   "execution_count": 210,
   "metadata": {},
   "outputs": [
    {
     "name": "stdout",
     "output_type": "stream",
     "text": [
      "ROC-AUC: 0.344286394931628\n",
      "PR-AUC: 0.052853257923627245\n",
      "Time: 3.8869826793670654\n",
      "\n",
      "ROC-AUC: 0.3452859330876908\n",
      "PR-AUC: 0.05136232567593285\n",
      "Time: 3.984043836593628\n",
      "\n",
      "ROC-AUC: 0.3485562039350002\n",
      "PR-AUC: 0.05424271072140012\n",
      "Time: 4.637409687042236\n",
      "\n",
      "ROC-AUC: 0.33663225873149116\n",
      "PR-AUC: 0.0506274842633191\n",
      "Time: 3.783252000808716\n",
      "\n",
      "ROC-AUC: 0.33922914763386447\n",
      "PR-AUC: 0.0510047718390825\n",
      "Time: 4.2120137214660645\n",
      "\n",
      "ROC-AUC: 0.3311880345337904\n",
      "PR-AUC: 0.050271921742194456\n",
      "Time: 3.6009325981140137\n",
      "\n",
      "ROC-AUC: 0.33434804154572756\n",
      "PR-AUC: 0.050793854521779064\n",
      "Time: 4.3384435176849365\n",
      "\n",
      "ROC-AUC: 0.33770933273102594\n",
      "PR-AUC: 0.05078742806789633\n",
      "Time: 3.741025686264038\n",
      "\n",
      "ROC-AUC: 0.339834545252278\n",
      "PR-AUC: 0.052131595447450496\n",
      "Time: 3.776258707046509\n",
      "\n",
      "ROC-AUC: 0.3492992557682734\n",
      "PR-AUC: 0.05186045791586816\n",
      "Time: 4.518470764160156\n",
      "\n",
      "Average ROC-AUC: 0.3492992557682734\n",
      "Average PR-AUC: 0.05186045791586816\n",
      "Average Time: 4.518470764160156\n"
     ]
    }
   ],
   "source": [
    "test_rrcf(X, y)"
   ]
  },
  {
   "cell_type": "markdown",
   "metadata": {},
   "source": [
    "# LOF"
   ]
  },
  {
   "cell_type": "code",
   "execution_count": 211,
   "metadata": {},
   "outputs": [
    {
     "name": "stdout",
     "output_type": "stream",
     "text": [
      "ROC-AUC: 0.6723361942935866\n",
      "PR-AUC: 0.1271064200560557\n",
      "Time: 0.4491424560546875\n"
     ]
    }
   ],
   "source": [
    "test_lof(X, y, 0.07)"
   ]
  }
 ],
 "metadata": {
  "kernelspec": {
   "display_name": "venv",
   "language": "python",
   "name": "python3"
  },
  "language_info": {
   "codemirror_mode": {
    "name": "ipython",
    "version": 3
   },
   "file_extension": ".py",
   "mimetype": "text/x-python",
   "name": "python",
   "nbconvert_exporter": "python",
   "pygments_lexer": "ipython3",
   "version": "3.11.2"
  }
 },
 "nbformat": 4,
 "nbformat_minor": 2
}
